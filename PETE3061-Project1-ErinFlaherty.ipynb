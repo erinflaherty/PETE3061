{
 "cells": [
  {
   "cell_type": "markdown",
   "metadata": {},
   "source": [
    "# Project 1 - Computational Methods"
   ]
  },
  {
   "cell_type": "markdown",
   "metadata": {},
   "source": [
    "Erin Flaherty"
   ]
  },
  {
   "cell_type": "markdown",
   "metadata": {},
   "source": [
    "89-297-2445"
   ]
  },
  {
   "cell_type": "markdown",
   "metadata": {},
   "source": [
    "References: PETE 3061 Class Lectures, Scipython & Numerical Methods Textbook"
   ]
  },
  {
   "cell_type": "markdown",
   "metadata": {},
   "source": [
    "# Root Finding: Newton Raphson Method"
   ]
  },
  {
   "cell_type": "markdown",
   "metadata": {},
   "source": [
    "f(x) = x**2-7x+10; initial guess = 1.5, max iterations = 10, error tolerance = 0.001"
   ]
  },
  {
   "cell_type": "code",
   "execution_count": 2,
   "metadata": {},
   "outputs": [],
   "source": [
    "from math import log, ceil"
   ]
  },
  {
   "cell_type": "code",
   "execution_count": 49,
   "metadata": {},
   "outputs": [],
   "source": [
    "def newton(f,Df,x0,epsilon,max_iter):\n",
    "    xn = x0\n",
    "    for n in range(0,max_iter):\n",
    "        fxn = f(xn)\n",
    "        if abs(fxn) < epsilon:\n",
    "            print('Solution after',n,'iterations')\n",
    "            return xn\n",
    "        Dfxn = Df(xn)\n",
    "        if Dfxn == 0:\n",
    "            print('No Solution')\n",
    "            return None\n",
    "        xn = xn - fxn/Dfxn\n",
    "    print('No solution found')\n",
    "    return None"
   ]
  },
  {
   "cell_type": "code",
   "execution_count": 51,
   "metadata": {},
   "outputs": [
    {
     "name": "stdout",
     "output_type": "stream",
     "text": [
      "Solution after 3 iterations\n",
      "x = 1.999999479600333\n"
     ]
    }
   ],
   "source": [
    "p = lambda x: x**2 - 7*x + 10\n",
    "Dp = lambda x: 2*x - 7\n",
    "approx = newton(p,Dp,1.5,1e-3,10)\n",
    "print('x =', approx)"
   ]
  },
  {
   "cell_type": "markdown",
   "metadata": {},
   "source": [
    "# Numerical Integration: Newton-Cotes Formula for Simpson's Rule"
   ]
  },
  {
   "cell_type": "markdown",
   "metadata": {},
   "source": [
    "Apply numerical integration to determine the approximate integral using the following data"
   ]
  },
  {
   "cell_type": "markdown",
   "metadata": {},
   "source": [
    "(0.1,2)"
   ]
  },
  {
   "cell_type": "markdown",
   "metadata": {},
   "source": [
    "(0.2,4)"
   ]
  },
  {
   "cell_type": "markdown",
   "metadata": {},
   "source": [
    "(0.3,4)"
   ]
  },
  {
   "cell_type": "markdown",
   "metadata": {},
   "source": [
    "(0.4,5)"
   ]
  },
  {
   "cell_type": "code",
   "execution_count": 7,
   "metadata": {},
   "outputs": [],
   "source": [
    "import numpy as np\n",
    "import matplotlib.pyplot as plt\n",
    "%matplotlib inline"
   ]
  },
  {
   "cell_type": "code",
   "execution_count": 43,
   "metadata": {},
   "outputs": [],
   "source": [
    "p = 2\n",
    "q = 4\n",
    "r = 4\n",
    "s = 5"
   ]
  },
  {
   "cell_type": "code",
   "execution_count": 44,
   "metadata": {},
   "outputs": [],
   "source": [
    "def simpson(a,b,N):\n",
    "    dx = (b-a)/N\n",
    "    x = [0.1,0.2,0.3,0.4]\n",
    "    y = [p,q,r,s]\n",
    "    S = 3*dx/8 * np.sum(y[0:-1:3] + 3*y[1::3] + 3*y[2::3] + y[3::3])\n",
    "    return S"
   ]
  },
  {
   "cell_type": "code",
   "execution_count": 45,
   "metadata": {
    "scrolled": true
   },
   "outputs": [
    {
     "data": {
      "text/plain": [
       "1.1625"
      ]
     },
     "execution_count": 45,
     "metadata": {},
     "output_type": "execute_result"
    }
   ],
   "source": [
    "simpson(0.1,0.4,3)"
   ]
  },
  {
   "cell_type": "markdown",
   "metadata": {},
   "source": [
    "# Numerical Differentiation: Heat Equation"
   ]
  },
  {
   "cell_type": "markdown",
   "metadata": {},
   "source": [
    "N = 10, step size = 0.001, spatial resolution = 0.1, domain = [0,1]"
   ]
  },
  {
   "cell_type": "code",
   "execution_count": null,
   "metadata": {},
   "outputs": [],
   "source": [
    "initial condition: T(x,0) = "
   ]
  },
  {
   "cell_type": "code",
   "execution_count": null,
   "metadata": {},
   "outputs": [],
   "source": [
    "Left boundary condition: T(0,t) = "
   ]
  },
  {
   "cell_type": "code",
   "execution_count": null,
   "metadata": {},
   "outputs": [],
   "source": [
    "Right boundary condition: T(0,t) = "
   ]
  },
  {
   "cell_type": "code",
   "execution_count": 42,
   "metadata": {},
   "outputs": [
    {
     "name": "stdout",
     "output_type": "stream",
     "text": [
      "0 1\n",
      "10 2\n",
      "50 3\n",
      "100 4\n"
     ]
    },
    {
     "name": "stderr",
     "output_type": "stream",
     "text": [
      "C:\\ProgramData\\Anaconda3\\lib\\site-packages\\ipykernel_launcher.py:51: UserWarning: Attempting to set identical left == right == -0.5 results in singular transformations; automatically expanding.\n",
      "C:\\ProgramData\\Anaconda3\\lib\\site-packages\\ipykernel_launcher.py:51: UserWarning: Attempting to set identical bottom == top == -0.5 results in singular transformations; automatically expanding.\n"
     ]
    },
    {
     "data": {
      "image/png": "[encoded data removed]",
      "text/plain": [
       "<Figure size 432x288 with 5 Axes>"
      ]
     },
     "metadata": {
      "needs_background": "light"
     },
     "output_type": "display_data"
    }
   ],
   "source": [
    "import numpy as np\n",
    "import matplotlib.pyplot as plt\n",
    "\n",
    "# plate size, mm\n",
    "w = h = 0.001\n",
    "# intervals in x-, y- directions, mm\n",
    "dx = dy = 0.1\n",
    "# Thermal diffusivity of steel, mm2.s-1\n",
    "D = 3\n",
    "\n",
    "Tcool, Thot = 1,10\n",
    "\n",
    "nx, ny = int(w/dx), int(h/dy)\n",
    "\n",
    "dx2, dy2 = dx*dx, dy*dy\n",
    "dt = dx2 * dy2 / (2 * D * (dx2 + dy2))\n",
    "\n",
    "u0 = Tcool * np.ones((nx, ny))\n",
    "u = u0.copy()\n",
    "\n",
    "# Initial conditions - circle of radius r centred at (cx,cy) (mm)\n",
    "r, cx, cy = 2, 5, 5\n",
    "r2 = r**2\n",
    "for i in range(nx):\n",
    "    for j in range(ny):\n",
    "        p2 = (i*dx-cx)**2 + (j*dy-cy)**2\n",
    "        if p2 < r2:\n",
    "            u0[i,j] = Thot\n",
    "\n",
    "def do_timestep(u0, u):\n",
    "    # Propagate with forward-difference in time, central-difference in space\n",
    "    u[1:-1, 1:-1] = u0[1:-1, 1:-1] + D * dt * (\n",
    "          (u0[2:, 1:-1] - 2*u0[1:-1, 1:-1] + u0[:-2, 1:-1])/dx2\n",
    "          + (u0[1:-1, 2:] - 2*u0[1:-1, 1:-1] + u0[1:-1, :-2])/dy2 )\n",
    "\n",
    "    u0 = u.copy()\n",
    "    return u0, u\n",
    "\n",
    "# Number of timesteps\n",
    "nsteps = 101\n",
    "# Output 4 figures at these timesteps\n",
    "mfig = [0,10,50,100]\n",
    "fignum = 0\n",
    "fig = plt.figure()\n",
    "for m in range(nsteps):\n",
    "    u0, u = do_timestep(u0, u)\n",
    "    if m in mfig:\n",
    "        fignum += 1\n",
    "        print(m, fignum)\n",
    "        ax = fig.add_subplot(220 + fignum)\n",
    "        im = ax.imshow(u.copy(), cmap=plt.get_cmap('hot'), vmin=Tcool,vmax=Thot)\n",
    "        ax.set_axis_off()\n",
    "        ax.set_title('{:.1f} ms'.format(m*dt*1000))\n",
    "fig.subplots_adjust(right=0.85)\n",
    "cbar_ax = fig.add_axes([0.9, 0.15, 0.03, 0.7])\n",
    "cbar_ax.set_xlabel('$T$ / K', labelpad=20)\n",
    "fig.colorbar(im, cax=cbar_ax)\n",
    "plt.show()"
   ]
  },
  {
   "cell_type": "markdown",
   "metadata": {},
   "source": [
    "# Matrix Solvers: Guass-Seidel Method"
   ]
  },
  {
   "cell_type": "code",
   "execution_count": null,
   "metadata": {},
   "outputs": [],
   "source": [
    "max iterations = 30, error tolerance = 0.001"
   ]
  },
  {
   "cell_type": "code",
   "execution_count": 10,
   "metadata": {},
   "outputs": [],
   "source": [
    "def seidel(a,x,b):\n",
    "    n = len(a)\n",
    "    for j in range(0,n):\n",
    "        d = b[j]\n",
    "        \n",
    "        for i in range(0,n):\n",
    "            if(j != i):\n",
    "                d -=a[j][i]*x[i]\n",
    "        x[j] = d / a[j][j]\n",
    "    return x"
   ]
  },
  {
   "cell_type": "code",
   "execution_count": 14,
   "metadata": {},
   "outputs": [
    {
     "name": "stdout",
     "output_type": "stream",
     "text": [
      "[0, 0, 0, 0]\n",
      "[2.0, 4.0, 2.4444444444444446, 0]\n",
      "[-13.333333333333334, -18.074074074074076, -14.930041152263376, 0]\n",
      "[82.93827160493828, 121.87105624142663, 94.9077884468831, 0]\n",
      "[-526.4654778235026, -763.8924960625923, -600.3176570870522, 0]\n",
      "[3330.737963386341, 4842.52905590649, 3800.095463299052, 0]\n",
      "[-21083.344501710133, -30643.189644479546, -24052.220191947574, 0]\n",
      "[133445.0398648018, 193962.86661436746, 152238.3836295825, 0]\n",
      "[-844638.8841174825, -1227676.1012430317, -963589.0176186231, 0]\n",
      "[5346121.255341932, 7770555.685534991, 6099015.354855639, 0]\n",
      "[-33838155.4356369, -49183549.4840863, -38603579.74748246, 0]\n",
      "[214177840.21062, 311306174.7791483, 244340487.83640015, 0]\n",
      "[-1355633811.067497, -1970405405.3142626, -1546547607.0859783, 0]\n",
      "[8580453633.886459, 12471636584.5726, 9788838202.280264, 0]\n",
      "[-54309787773.98599, -78938942498.83482, -61958230646.68134, 0]\n",
      "[343752576939.7137, 499642256352.0725, 392163223619.50037, 0]\n",
      "[-2175774183560.646, -3162474393825.8613, -2482188279979.471, 0]\n",
      "[13771513627592.137, 20016810356777.164, 15710954740739.803, 0]\n",
      "[-87166484935771.73, -126695949741520.86, -99442133723880.39, 0]\n",
      "[551718300654684.9, 801919156688834.9, 629416742823136.1, 0]\n",
      "[-3492088541847076.0, -5075729217678191.0, -3983879079325798.5, 0]\n",
      "[2.210309567333378e+16, 3.2126713617328908e+16, 2.521587278962732e+16, 0]\n",
      "[-1.3990104560353978e+17, -2.0334530933113792e+17, -1.596032981629232e+17, 0]\n",
      "[8.855005131510454e+17, 1.2870695496433426e+18, 1.010205476407761e+18, 0]\n",
      "[-5.604755528509968e+18, -8.146477688951799e+18, -6.39407278114321e+18, 0]\n",
      "[3.5475173721333228e+19, 5.1562946815873114e+19, 4.047113947148503e+19, 0]\n",
      "[-2.245393120462013e+20, -3.263665090425918e+20, -2.561611645946181e+20, 0]\n",
      "[1.421216511869038e+21, 2.065729458888463e+21, 1.6213663144499366e+21, 0]\n",
      "[-8.995557861126736e+21, -1.3074988024468938e+22, -1.0262401522858323e+22, 0]\n",
      "[5.693718061751285e+22, 8.275784183858934e+22, 6.495563900505392e+22, 0]\n",
      "[-3.6038260069234045e+23, -5.238138935931565e+23, -4.1113525222697815e+23, 0]\n"
     ]
    }
   ],
   "source": [
    "n = 4\n",
    "a = []\n",
    "b = []\n",
    "\n",
    "x = [0,0,0,0]\n",
    "a = [[1,2,3,4],[-4,3,2,-1],[3,5,-9,2]]\n",
    "b = [2,4,4,5]\n",
    "print(x)\n",
    "\n",
    "for i in range(0,30):\n",
    "    x = seidel(a,x,b)\n",
    "    print(x)"
   ]
  },
  {
   "cell_type": "code",
   "execution_count": 54,
   "metadata": {},
   "outputs": [],
   "source": [
    "def gaussSeidel(iterEqs,x,tol = 1.0e-9):\n",
    "    omega = 1.0\n",
    "    k = 10\n",
    "    p=1\n",
    "    for i in range(1,501):\n",
    "        xOld = x.copy()\n",
    "        x = iterEqs(x,omega)\n",
    "        dx = sqrt(dot(x-xOld,x-xOld))\n",
    "        if dx < tol: return x,i,omega\n",
    "# Compute of relaxation factor after k+p iterations\n",
    "        if i == k: dx1 = dx\n",
    "        if i == k + p:\n",
    "            dx2 = dx\n",
    "            omega = 2.0/(1.0 + sqrt(1.0 - (dx2/dx1)**(1.0/p)))\n",
    "    print('Gauss-Seidel failed to converge')"
   ]
  },
  {
   "cell_type": "code",
   "execution_count": 58,
   "metadata": {},
   "outputs": [
    {
     "ename": "SyntaxError",
     "evalue": "invalid character in identifier (<ipython-input-58-0101929bf2ff>, line 14)",
     "output_type": "error",
     "traceback": [
      "\u001b[1;36m  File \u001b[1;32m\"<ipython-input-58-0101929bf2ff>\"\u001b[1;36m, line \u001b[1;32m14\u001b[0m\n\u001b[1;33m    n = eval(raw_input(’’Number of equations ==> ’’))\u001b[0m\n\u001b[1;37m                              ^\u001b[0m\n\u001b[1;31mSyntaxError\u001b[0m\u001b[1;31m:\u001b[0m invalid character in identifier\n"
     ]
    }
   ],
   "source": [
    "from numarray import zeros,Float64\n",
    "from gaussSeidel import *\n",
    "\n",
    "\n",
    "def iterEqs(x,omega):\n",
    "    n = len(x)\n",
    "    x[0] = omega*(x[1] - x[n-1])/2.0 + (1.0 - omega)*x[0]\n",
    "    for i in range(1,n-1):\n",
    "        x[i] = omega*(x[i-1] + x[i+1])/2.0 + (1.0 - omega)*x[i]\n",
    "    x[n-1] = omega*(1.0 - x[0] + x[n-2])/2.0 \\\n",
    "            + (1.0 - omega)*x[n-1]\n",
    "    return x\n",
    "\n",
    "n = eval(raw_input(’’Number of equations ==> ’’))\n",
    "x = zeros((n),type=Float64)\n",
    "x,numIter,omega = gaussSeidel(iterEqs,x)\n",
    "print('\\nNumber of iterations =',numIter)\n",
    "print('\\nRelaxation factor =',omega)\n",
    "print('\\nThe solution is:\\n',x\n",
    "raw_input('\\nPress return to exit')"
   ]
  }
 ],
 "metadata": {
  "kernelspec": {
   "display_name": "Python 3",
   "language": "python",
   "name": "python3"
  },
  "language_info": {
   "codemirror_mode": {
    "name": "ipython",
    "version": 3
   },
   "file_extension": ".py",
   "mimetype": "text/x-python",
   "name": "python",
   "nbconvert_exporter": "python",
   "pygments_lexer": "ipython3",
   "version": "3.7.3"
  }
 },
 "nbformat": 4,
 "nbformat_minor": 2
}
